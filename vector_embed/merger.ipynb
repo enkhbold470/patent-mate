{
 "cells": [
  {
   "cell_type": "code",
   "execution_count": 3,
   "metadata": {},
   "outputs": [],
   "source": [
    "# Importing all libaries and the updated PyPDF2 library codes.\n",
    "# If you need to install, type: pip install PyPDF2\n",
    "import os\n",
    "import PyPDF2\n",
    "from PyPDF2 import PdfReader , PdfWriter, PdfMerger"
   ]
  },
  {
   "cell_type": "code",
   "execution_count": 5,
   "metadata": {},
   "outputs": [],
   "source": [
    "pdfFiles = [] # variable\n",
    "\n",
    "for root, dirs, filenames in os.walk(os.getcwd()): # Root and directory pathway.\n",
    "    for filename in filenames:\n",
    "        if filename.lower().endswith('.pdf'):# for loop for all files with .pdf in the name.\n",
    "            pdfFiles.append(os.path.join(root,filename))\n",
    "            # Appending files to root name from OS (operating system).\n",
    "\n",
    "# Sorting the files by forcing everything to lower case.\n",
    "pdfFiles.sort(key=str.lower)\n",
    "\n",
    "# Assigning the pdfWriter() function to pdfWriter.\n",
    "pdfWriter = PyPDF2.PdfWriter()\n"
   ]
  }
 ],
 "metadata": {
  "kernelspec": {
   "display_name": "patent",
   "language": "python",
   "name": "python3"
  },
  "language_info": {
   "codemirror_mode": {
    "name": "ipython",
    "version": 3
   },
   "file_extension": ".py",
   "mimetype": "text/x-python",
   "name": "python",
   "nbconvert_exporter": "python",
   "pygments_lexer": "ipython3",
   "version": "3.10.14"
  }
 },
 "nbformat": 4,
 "nbformat_minor": 2
}
