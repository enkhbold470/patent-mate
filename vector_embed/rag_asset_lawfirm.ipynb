{
  "cells": [
    {
      "cell_type": "code",
      "execution_count": 5,
      "metadata": {
        "colab": {
          "base_uri": "https://localhost:8080/"
        },
        "collapsed": true,
        "id": "lVzT9YWJfom3",
        "outputId": "20c59b41-2130-4dd0-d6f1-7953d17fcf9c"
      },
      "outputs": [
        {
          "name": "stdout",
          "output_type": "stream",
          "text": [
            "Requirement already satisfied: llama-index-core in /Users/in-mac/miniconda3/envs/patent/lib/python3.10/site-packages (0.11.7)\n",
            "Requirement already satisfied: llama-parse in /Users/in-mac/miniconda3/envs/patent/lib/python3.10/site-packages (0.5.2)\n",
            "Requirement already satisfied: llama-index-readers-file in /Users/in-mac/miniconda3/envs/patent/lib/python3.10/site-packages (0.2.1)\n",
            "Requirement already satisfied: python-dotenv in /Users/in-mac/miniconda3/envs/patent/lib/python3.10/site-packages (0.21.0)\n",
            "Requirement already satisfied: PyYAML>=6.0.1 in /Users/in-mac/miniconda3/envs/patent/lib/python3.10/site-packages (from llama-index-core) (6.0.2)\n",
            "Requirement already satisfied: SQLAlchemy>=1.4.49 in /Users/in-mac/miniconda3/envs/patent/lib/python3.10/site-packages (from SQLAlchemy[asyncio]>=1.4.49->llama-index-core) (2.0.34)\n",
            "Requirement already satisfied: aiohttp<4.0.0,>=3.8.6 in /Users/in-mac/miniconda3/envs/patent/lib/python3.10/site-packages (from llama-index-core) (3.10.5)\n",
            "Requirement already satisfied: dataclasses-json in /Users/in-mac/miniconda3/envs/patent/lib/python3.10/site-packages (from llama-index-core) (0.6.7)\n",
            "Requirement already satisfied: deprecated>=1.2.9.3 in /Users/in-mac/miniconda3/envs/patent/lib/python3.10/site-packages (from llama-index-core) (1.2.14)\n",
            "Requirement already satisfied: dirtyjson<2.0.0,>=1.0.8 in /Users/in-mac/miniconda3/envs/patent/lib/python3.10/site-packages (from llama-index-core) (1.0.8)\n",
            "Requirement already satisfied: fsspec>=2023.5.0 in /Users/in-mac/miniconda3/envs/patent/lib/python3.10/site-packages (from llama-index-core) (2024.9.0)\n",
            "Requirement already satisfied: httpx in /Users/in-mac/miniconda3/envs/patent/lib/python3.10/site-packages (from llama-index-core) (0.27.2)\n",
            "Requirement already satisfied: nest-asyncio<2.0.0,>=1.5.8 in /Users/in-mac/miniconda3/envs/patent/lib/python3.10/site-packages (from llama-index-core) (1.6.0)\n",
            "Requirement already satisfied: networkx>=3.0 in /Users/in-mac/miniconda3/envs/patent/lib/python3.10/site-packages (from llama-index-core) (3.3)\n",
            "Requirement already satisfied: nltk>3.8.1 in /Users/in-mac/miniconda3/envs/patent/lib/python3.10/site-packages (from llama-index-core) (3.9.1)\n",
            "Requirement already satisfied: numpy<2.0.0 in /Users/in-mac/miniconda3/envs/patent/lib/python3.10/site-packages (from llama-index-core) (1.26.4)\n",
            "Requirement already satisfied: pillow>=9.0.0 in /Users/in-mac/miniconda3/envs/patent/lib/python3.10/site-packages (from llama-index-core) (10.4.0)\n",
            "Requirement already satisfied: pydantic<3.0.0,>=2.7.0 in /Users/in-mac/miniconda3/envs/patent/lib/python3.10/site-packages (from llama-index-core) (2.9.0)\n",
            "Requirement already satisfied: requests>=2.31.0 in /Users/in-mac/miniconda3/envs/patent/lib/python3.10/site-packages (from llama-index-core) (2.32.3)\n",
            "Requirement already satisfied: tenacity!=8.4.0,<9.0.0,>=8.2.0 in /Users/in-mac/miniconda3/envs/patent/lib/python3.10/site-packages (from llama-index-core) (8.5.0)\n",
            "Requirement already satisfied: tiktoken>=0.3.3 in /Users/in-mac/miniconda3/envs/patent/lib/python3.10/site-packages (from llama-index-core) (0.7.0)\n",
            "Requirement already satisfied: tqdm<5.0.0,>=4.66.1 in /Users/in-mac/miniconda3/envs/patent/lib/python3.10/site-packages (from llama-index-core) (4.66.5)\n",
            "Requirement already satisfied: typing-extensions>=4.5.0 in /Users/in-mac/miniconda3/envs/patent/lib/python3.10/site-packages (from llama-index-core) (4.11.0)\n",
            "Requirement already satisfied: typing-inspect>=0.8.0 in /Users/in-mac/miniconda3/envs/patent/lib/python3.10/site-packages (from llama-index-core) (0.9.0)\n",
            "Requirement already satisfied: wrapt in /Users/in-mac/miniconda3/envs/patent/lib/python3.10/site-packages (from llama-index-core) (1.16.0)\n",
            "Requirement already satisfied: beautifulsoup4<5.0.0,>=4.12.3 in /Users/in-mac/miniconda3/envs/patent/lib/python3.10/site-packages (from llama-index-readers-file) (4.12.3)\n",
            "Requirement already satisfied: pandas in /Users/in-mac/miniconda3/envs/patent/lib/python3.10/site-packages (from llama-index-readers-file) (2.2.2)\n",
            "Requirement already satisfied: pypdf<5.0.0,>=4.0.1 in /Users/in-mac/miniconda3/envs/patent/lib/python3.10/site-packages (from llama-index-readers-file) (4.3.1)\n",
            "Requirement already satisfied: striprtf<0.0.27,>=0.0.26 in /Users/in-mac/miniconda3/envs/patent/lib/python3.10/site-packages (from llama-index-readers-file) (0.0.26)\n",
            "Requirement already satisfied: aiohappyeyeballs>=2.3.0 in /Users/in-mac/miniconda3/envs/patent/lib/python3.10/site-packages (from aiohttp<4.0.0,>=3.8.6->llama-index-core) (2.4.0)\n",
            "Requirement already satisfied: aiosignal>=1.1.2 in /Users/in-mac/miniconda3/envs/patent/lib/python3.10/site-packages (from aiohttp<4.0.0,>=3.8.6->llama-index-core) (1.3.1)\n",
            "Requirement already satisfied: attrs>=17.3.0 in /Users/in-mac/miniconda3/envs/patent/lib/python3.10/site-packages (from aiohttp<4.0.0,>=3.8.6->llama-index-core) (24.2.0)\n",
            "Requirement already satisfied: frozenlist>=1.1.1 in /Users/in-mac/miniconda3/envs/patent/lib/python3.10/site-packages (from aiohttp<4.0.0,>=3.8.6->llama-index-core) (1.4.1)\n",
            "Requirement already satisfied: multidict<7.0,>=4.5 in /Users/in-mac/miniconda3/envs/patent/lib/python3.10/site-packages (from aiohttp<4.0.0,>=3.8.6->llama-index-core) (6.0.5)\n",
            "Requirement already satisfied: yarl<2.0,>=1.0 in /Users/in-mac/miniconda3/envs/patent/lib/python3.10/site-packages (from aiohttp<4.0.0,>=3.8.6->llama-index-core) (1.11.0)\n",
            "Requirement already satisfied: async-timeout<5.0,>=4.0 in /Users/in-mac/miniconda3/envs/patent/lib/python3.10/site-packages (from aiohttp<4.0.0,>=3.8.6->llama-index-core) (4.0.3)\n",
            "Requirement already satisfied: soupsieve>1.2 in /Users/in-mac/miniconda3/envs/patent/lib/python3.10/site-packages (from beautifulsoup4<5.0.0,>=4.12.3->llama-index-readers-file) (2.6)\n",
            "Requirement already satisfied: click in /Users/in-mac/miniconda3/envs/patent/lib/python3.10/site-packages (from nltk>3.8.1->llama-index-core) (8.1.7)\n",
            "Requirement already satisfied: joblib in /Users/in-mac/miniconda3/envs/patent/lib/python3.10/site-packages (from nltk>3.8.1->llama-index-core) (1.4.2)\n",
            "Requirement already satisfied: regex>=2021.8.3 in /Users/in-mac/miniconda3/envs/patent/lib/python3.10/site-packages (from nltk>3.8.1->llama-index-core) (2024.7.24)\n",
            "Requirement already satisfied: annotated-types>=0.4.0 in /Users/in-mac/miniconda3/envs/patent/lib/python3.10/site-packages (from pydantic<3.0.0,>=2.7.0->llama-index-core) (0.7.0)\n",
            "Requirement already satisfied: pydantic-core==2.23.2 in /Users/in-mac/miniconda3/envs/patent/lib/python3.10/site-packages (from pydantic<3.0.0,>=2.7.0->llama-index-core) (2.23.2)\n",
            "Requirement already satisfied: tzdata in /Users/in-mac/miniconda3/envs/patent/lib/python3.10/site-packages (from pydantic<3.0.0,>=2.7.0->llama-index-core) (2024.1)\n",
            "Requirement already satisfied: charset-normalizer<4,>=2 in /Users/in-mac/miniconda3/envs/patent/lib/python3.10/site-packages (from requests>=2.31.0->llama-index-core) (3.3.2)\n",
            "Requirement already satisfied: idna<4,>=2.5 in /Users/in-mac/miniconda3/envs/patent/lib/python3.10/site-packages (from requests>=2.31.0->llama-index-core) (3.8)\n",
            "Requirement already satisfied: urllib3<3,>=1.21.1 in /Users/in-mac/miniconda3/envs/patent/lib/python3.10/site-packages (from requests>=2.31.0->llama-index-core) (2.2.2)\n",
            "Requirement already satisfied: certifi>=2017.4.17 in /Users/in-mac/miniconda3/envs/patent/lib/python3.10/site-packages (from requests>=2.31.0->llama-index-core) (2024.8.30)\n",
            "Requirement already satisfied: greenlet!=0.4.17 in /Users/in-mac/miniconda3/envs/patent/lib/python3.10/site-packages (from SQLAlchemy[asyncio]>=1.4.49->llama-index-core) (3.0.3)\n",
            "Requirement already satisfied: mypy-extensions>=0.3.0 in /Users/in-mac/miniconda3/envs/patent/lib/python3.10/site-packages (from typing-inspect>=0.8.0->llama-index-core) (1.0.0)\n",
            "Requirement already satisfied: marshmallow<4.0.0,>=3.18.0 in /Users/in-mac/miniconda3/envs/patent/lib/python3.10/site-packages (from dataclasses-json->llama-index-core) (3.22.0)\n",
            "Requirement already satisfied: anyio in /Users/in-mac/miniconda3/envs/patent/lib/python3.10/site-packages (from httpx->llama-index-core) (4.4.0)\n",
            "Requirement already satisfied: httpcore==1.* in /Users/in-mac/miniconda3/envs/patent/lib/python3.10/site-packages (from httpx->llama-index-core) (1.0.5)\n",
            "Requirement already satisfied: sniffio in /Users/in-mac/miniconda3/envs/patent/lib/python3.10/site-packages (from httpx->llama-index-core) (1.3.1)\n",
            "Requirement already satisfied: h11<0.15,>=0.13 in /Users/in-mac/miniconda3/envs/patent/lib/python3.10/site-packages (from httpcore==1.*->httpx->llama-index-core) (0.14.0)\n",
            "Requirement already satisfied: python-dateutil>=2.8.2 in /Users/in-mac/miniconda3/envs/patent/lib/python3.10/site-packages (from pandas->llama-index-readers-file) (2.9.0.post0)\n",
            "Requirement already satisfied: pytz>=2020.1 in /Users/in-mac/miniconda3/envs/patent/lib/python3.10/site-packages (from pandas->llama-index-readers-file) (2024.1)\n",
            "Requirement already satisfied: packaging>=17.0 in /Users/in-mac/miniconda3/envs/patent/lib/python3.10/site-packages (from marshmallow<4.0.0,>=3.18.0->dataclasses-json->llama-index-core) (24.1)\n",
            "Requirement already satisfied: six>=1.5 in /Users/in-mac/miniconda3/envs/patent/lib/python3.10/site-packages (from python-dateutil>=2.8.2->pandas->llama-index-readers-file) (1.16.0)\n",
            "Requirement already satisfied: exceptiongroup>=1.0.2 in /Users/in-mac/miniconda3/envs/patent/lib/python3.10/site-packages (from anyio->httpx->llama-index-core) (1.2.0)\n",
            "Note: you may need to restart the kernel to use updated packages.\n"
          ]
        }
      ],
      "source": [
        "%pip install llama-index-core llama-parse llama-index-readers-file python-dotenv"
      ]
    },
    {
      "cell_type": "code",
      "execution_count": 13,
      "metadata": {},
      "outputs": [],
      "source": [
        "import os\n",
        "import glob\n",
        "import nest_asyncio\n",
        "nest_asyncio.apply()"
      ]
    },
    {
      "cell_type": "code",
      "execution_count": 7,
      "metadata": {
        "id": "9ot8-SnOgKSL"
      },
      "outputs": [],
      "source": [
        "\n",
        "# bring in our LLAMA_CLOUD_API_KEY\n",
        "LLAMA_CLOUD_API_KEY = os.getenv('LLAMA_CLOUD_API_KEY')\n",
        "OPENAI_API_KEY = os.getenv('OPENAI_API_KEY')\n"
      ]
    },
    {
      "cell_type": "code",
      "execution_count": 8,
      "metadata": {
        "id": "uKOxYr6TgNFP"
      },
      "outputs": [],
      "source": [
        "# bring in deps\n",
        "from llama_parse import LlamaParse\n",
        "from llama_index.core import SimpleDirectoryReader"
      ]
    },
    {
      "cell_type": "code",
      "execution_count": 26,
      "metadata": {
        "id": "8XdS1El6gPvj"
      },
      "outputs": [],
      "source": [
        "# set up parser\n",
        "parser = LlamaParse(\n",
        "    api_key=LLAMA_CLOUD_API_KEY,  # can also be set in your env as LLAMA_CLOUD_API_KEY\n",
        "    result_type=\"markdown\",  # \"markdown\" and \"text\" are available\n",
        "    num_workers=4,  # if multiple files passed, split in `num_workers` API calls\n",
        "    verbose=True,\n",
        "    language=\"en\",\n",
        "    fast_mode=True,\n",
        ")"
      ]
    },
    {
      "cell_type": "code",
      "execution_count": 27,
      "metadata": {
        "colab": {
          "base_uri": "https://localhost:8080/"
        },
        "id": "i3vocOsAgunC",
        "outputId": "e4a41a52-ca43-4462-e486-adee943c7d58"
      },
      "outputs": [],
      "source": [
        "# use SimpleDirectoryReader to parse our file\n",
        "file_extractor = {\".pdf\": parser}\n",
        "input_files = glob.glob('technology/*.pdf')\n",
        "documents = SimpleDirectoryReader(input_files=input_files, file_extractor=file_extractor).load_data()\n",
        "print(documents)"
      ]
    },
    {
      "cell_type": "code",
      "execution_count": 15,
      "metadata": {
        "colab": {
          "base_uri": "https://localhost:8080/"
        },
        "collapsed": true,
        "id": "CPHHjI_1udzb",
        "outputId": "63ff8387-95ab-4a27-c8fe-a2f44d5a7640"
      },
      "outputs": [
        {
          "name": "stdout",
          "output_type": "stream",
          "text": [
            "Collecting llama-index-llms-openai\n",
            "  Downloading llama_index_llms_openai-0.2.3-py3-none-any.whl.metadata (654 bytes)\n",
            "Collecting llama-index-embeddings-openai\n",
            "  Downloading llama_index_embeddings_openai-0.2.4-py3-none-any.whl.metadata (635 bytes)\n",
            "Collecting llama-index-agent-openai<0.4.0,>=0.3.1 (from llama-index-llms-openai)\n",
            "  Downloading llama_index_agent_openai-0.3.1-py3-none-any.whl.metadata (677 bytes)\n",
            "Requirement already satisfied: llama-index-core<0.12.0,>=0.11.7 in /Users/in-mac/miniconda3/envs/patent/lib/python3.10/site-packages (from llama-index-llms-openai) (0.11.7)\n",
            "Collecting openai<2.0.0,>=1.40.0 (from llama-index-llms-openai)\n",
            "  Downloading openai-1.44.0-py3-none-any.whl.metadata (22 kB)\n",
            "Requirement already satisfied: PyYAML>=6.0.1 in /Users/in-mac/miniconda3/envs/patent/lib/python3.10/site-packages (from llama-index-core<0.12.0,>=0.11.7->llama-index-llms-openai) (6.0.2)\n",
            "Requirement already satisfied: SQLAlchemy>=1.4.49 in /Users/in-mac/miniconda3/envs/patent/lib/python3.10/site-packages (from SQLAlchemy[asyncio]>=1.4.49->llama-index-core<0.12.0,>=0.11.7->llama-index-llms-openai) (2.0.34)\n",
            "Requirement already satisfied: aiohttp<4.0.0,>=3.8.6 in /Users/in-mac/miniconda3/envs/patent/lib/python3.10/site-packages (from llama-index-core<0.12.0,>=0.11.7->llama-index-llms-openai) (3.10.5)\n",
            "Requirement already satisfied: dataclasses-json in /Users/in-mac/miniconda3/envs/patent/lib/python3.10/site-packages (from llama-index-core<0.12.0,>=0.11.7->llama-index-llms-openai) (0.6.7)\n",
            "Requirement already satisfied: deprecated>=1.2.9.3 in /Users/in-mac/miniconda3/envs/patent/lib/python3.10/site-packages (from llama-index-core<0.12.0,>=0.11.7->llama-index-llms-openai) (1.2.14)\n",
            "Requirement already satisfied: dirtyjson<2.0.0,>=1.0.8 in /Users/in-mac/miniconda3/envs/patent/lib/python3.10/site-packages (from llama-index-core<0.12.0,>=0.11.7->llama-index-llms-openai) (1.0.8)\n",
            "Requirement already satisfied: fsspec>=2023.5.0 in /Users/in-mac/miniconda3/envs/patent/lib/python3.10/site-packages (from llama-index-core<0.12.0,>=0.11.7->llama-index-llms-openai) (2024.9.0)\n",
            "Requirement already satisfied: httpx in /Users/in-mac/miniconda3/envs/patent/lib/python3.10/site-packages (from llama-index-core<0.12.0,>=0.11.7->llama-index-llms-openai) (0.27.2)\n",
            "Requirement already satisfied: nest-asyncio<2.0.0,>=1.5.8 in /Users/in-mac/miniconda3/envs/patent/lib/python3.10/site-packages (from llama-index-core<0.12.0,>=0.11.7->llama-index-llms-openai) (1.6.0)\n",
            "Requirement already satisfied: networkx>=3.0 in /Users/in-mac/miniconda3/envs/patent/lib/python3.10/site-packages (from llama-index-core<0.12.0,>=0.11.7->llama-index-llms-openai) (3.3)\n",
            "Requirement already satisfied: nltk>3.8.1 in /Users/in-mac/miniconda3/envs/patent/lib/python3.10/site-packages (from llama-index-core<0.12.0,>=0.11.7->llama-index-llms-openai) (3.9.1)\n",
            "Requirement already satisfied: numpy<2.0.0 in /Users/in-mac/miniconda3/envs/patent/lib/python3.10/site-packages (from llama-index-core<0.12.0,>=0.11.7->llama-index-llms-openai) (1.26.4)\n",
            "Requirement already satisfied: pillow>=9.0.0 in /Users/in-mac/miniconda3/envs/patent/lib/python3.10/site-packages (from llama-index-core<0.12.0,>=0.11.7->llama-index-llms-openai) (10.4.0)\n",
            "Requirement already satisfied: pydantic<3.0.0,>=2.7.0 in /Users/in-mac/miniconda3/envs/patent/lib/python3.10/site-packages (from llama-index-core<0.12.0,>=0.11.7->llama-index-llms-openai) (2.9.0)\n",
            "Requirement already satisfied: requests>=2.31.0 in /Users/in-mac/miniconda3/envs/patent/lib/python3.10/site-packages (from llama-index-core<0.12.0,>=0.11.7->llama-index-llms-openai) (2.32.3)\n",
            "Requirement already satisfied: tenacity!=8.4.0,<9.0.0,>=8.2.0 in /Users/in-mac/miniconda3/envs/patent/lib/python3.10/site-packages (from llama-index-core<0.12.0,>=0.11.7->llama-index-llms-openai) (8.5.0)\n",
            "Requirement already satisfied: tiktoken>=0.3.3 in /Users/in-mac/miniconda3/envs/patent/lib/python3.10/site-packages (from llama-index-core<0.12.0,>=0.11.7->llama-index-llms-openai) (0.7.0)\n",
            "Requirement already satisfied: tqdm<5.0.0,>=4.66.1 in /Users/in-mac/miniconda3/envs/patent/lib/python3.10/site-packages (from llama-index-core<0.12.0,>=0.11.7->llama-index-llms-openai) (4.66.5)\n",
            "Requirement already satisfied: typing-extensions>=4.5.0 in /Users/in-mac/miniconda3/envs/patent/lib/python3.10/site-packages (from llama-index-core<0.12.0,>=0.11.7->llama-index-llms-openai) (4.11.0)\n",
            "Requirement already satisfied: typing-inspect>=0.8.0 in /Users/in-mac/miniconda3/envs/patent/lib/python3.10/site-packages (from llama-index-core<0.12.0,>=0.11.7->llama-index-llms-openai) (0.9.0)\n",
            "Requirement already satisfied: wrapt in /Users/in-mac/miniconda3/envs/patent/lib/python3.10/site-packages (from llama-index-core<0.12.0,>=0.11.7->llama-index-llms-openai) (1.16.0)\n",
            "Requirement already satisfied: anyio<5,>=3.5.0 in /Users/in-mac/miniconda3/envs/patent/lib/python3.10/site-packages (from openai<2.0.0,>=1.40.0->llama-index-llms-openai) (4.4.0)\n",
            "Requirement already satisfied: distro<2,>=1.7.0 in /Users/in-mac/miniconda3/envs/patent/lib/python3.10/site-packages (from openai<2.0.0,>=1.40.0->llama-index-llms-openai) (1.9.0)\n",
            "Collecting jiter<1,>=0.4.0 (from openai<2.0.0,>=1.40.0->llama-index-llms-openai)\n",
            "  Downloading jiter-0.5.0-cp310-cp310-macosx_11_0_arm64.whl.metadata (3.6 kB)\n",
            "Requirement already satisfied: sniffio in /Users/in-mac/miniconda3/envs/patent/lib/python3.10/site-packages (from openai<2.0.0,>=1.40.0->llama-index-llms-openai) (1.3.1)\n",
            "Requirement already satisfied: aiohappyeyeballs>=2.3.0 in /Users/in-mac/miniconda3/envs/patent/lib/python3.10/site-packages (from aiohttp<4.0.0,>=3.8.6->llama-index-core<0.12.0,>=0.11.7->llama-index-llms-openai) (2.4.0)\n",
            "Requirement already satisfied: aiosignal>=1.1.2 in /Users/in-mac/miniconda3/envs/patent/lib/python3.10/site-packages (from aiohttp<4.0.0,>=3.8.6->llama-index-core<0.12.0,>=0.11.7->llama-index-llms-openai) (1.3.1)\n",
            "Requirement already satisfied: attrs>=17.3.0 in /Users/in-mac/miniconda3/envs/patent/lib/python3.10/site-packages (from aiohttp<4.0.0,>=3.8.6->llama-index-core<0.12.0,>=0.11.7->llama-index-llms-openai) (24.2.0)\n",
            "Requirement already satisfied: frozenlist>=1.1.1 in /Users/in-mac/miniconda3/envs/patent/lib/python3.10/site-packages (from aiohttp<4.0.0,>=3.8.6->llama-index-core<0.12.0,>=0.11.7->llama-index-llms-openai) (1.4.1)\n",
            "Requirement already satisfied: multidict<7.0,>=4.5 in /Users/in-mac/miniconda3/envs/patent/lib/python3.10/site-packages (from aiohttp<4.0.0,>=3.8.6->llama-index-core<0.12.0,>=0.11.7->llama-index-llms-openai) (6.0.5)\n",
            "Requirement already satisfied: yarl<2.0,>=1.0 in /Users/in-mac/miniconda3/envs/patent/lib/python3.10/site-packages (from aiohttp<4.0.0,>=3.8.6->llama-index-core<0.12.0,>=0.11.7->llama-index-llms-openai) (1.11.0)\n",
            "Requirement already satisfied: async-timeout<5.0,>=4.0 in /Users/in-mac/miniconda3/envs/patent/lib/python3.10/site-packages (from aiohttp<4.0.0,>=3.8.6->llama-index-core<0.12.0,>=0.11.7->llama-index-llms-openai) (4.0.3)\n",
            "Requirement already satisfied: idna>=2.8 in /Users/in-mac/miniconda3/envs/patent/lib/python3.10/site-packages (from anyio<5,>=3.5.0->openai<2.0.0,>=1.40.0->llama-index-llms-openai) (3.8)\n",
            "Requirement already satisfied: exceptiongroup>=1.0.2 in /Users/in-mac/miniconda3/envs/patent/lib/python3.10/site-packages (from anyio<5,>=3.5.0->openai<2.0.0,>=1.40.0->llama-index-llms-openai) (1.2.0)\n",
            "Requirement already satisfied: certifi in /Users/in-mac/miniconda3/envs/patent/lib/python3.10/site-packages (from httpx->llama-index-core<0.12.0,>=0.11.7->llama-index-llms-openai) (2024.8.30)\n",
            "Requirement already satisfied: httpcore==1.* in /Users/in-mac/miniconda3/envs/patent/lib/python3.10/site-packages (from httpx->llama-index-core<0.12.0,>=0.11.7->llama-index-llms-openai) (1.0.5)\n",
            "Requirement already satisfied: h11<0.15,>=0.13 in /Users/in-mac/miniconda3/envs/patent/lib/python3.10/site-packages (from httpcore==1.*->httpx->llama-index-core<0.12.0,>=0.11.7->llama-index-llms-openai) (0.14.0)\n",
            "Requirement already satisfied: click in /Users/in-mac/miniconda3/envs/patent/lib/python3.10/site-packages (from nltk>3.8.1->llama-index-core<0.12.0,>=0.11.7->llama-index-llms-openai) (8.1.7)\n",
            "Requirement already satisfied: joblib in /Users/in-mac/miniconda3/envs/patent/lib/python3.10/site-packages (from nltk>3.8.1->llama-index-core<0.12.0,>=0.11.7->llama-index-llms-openai) (1.4.2)\n",
            "Requirement already satisfied: regex>=2021.8.3 in /Users/in-mac/miniconda3/envs/patent/lib/python3.10/site-packages (from nltk>3.8.1->llama-index-core<0.12.0,>=0.11.7->llama-index-llms-openai) (2024.7.24)\n",
            "Requirement already satisfied: annotated-types>=0.4.0 in /Users/in-mac/miniconda3/envs/patent/lib/python3.10/site-packages (from pydantic<3.0.0,>=2.7.0->llama-index-core<0.12.0,>=0.11.7->llama-index-llms-openai) (0.7.0)\n",
            "Requirement already satisfied: pydantic-core==2.23.2 in /Users/in-mac/miniconda3/envs/patent/lib/python3.10/site-packages (from pydantic<3.0.0,>=2.7.0->llama-index-core<0.12.0,>=0.11.7->llama-index-llms-openai) (2.23.2)\n",
            "Requirement already satisfied: tzdata in /Users/in-mac/miniconda3/envs/patent/lib/python3.10/site-packages (from pydantic<3.0.0,>=2.7.0->llama-index-core<0.12.0,>=0.11.7->llama-index-llms-openai) (2024.1)\n",
            "Requirement already satisfied: charset-normalizer<4,>=2 in /Users/in-mac/miniconda3/envs/patent/lib/python3.10/site-packages (from requests>=2.31.0->llama-index-core<0.12.0,>=0.11.7->llama-index-llms-openai) (3.3.2)\n",
            "Requirement already satisfied: urllib3<3,>=1.21.1 in /Users/in-mac/miniconda3/envs/patent/lib/python3.10/site-packages (from requests>=2.31.0->llama-index-core<0.12.0,>=0.11.7->llama-index-llms-openai) (2.2.2)\n",
            "Requirement already satisfied: greenlet!=0.4.17 in /Users/in-mac/miniconda3/envs/patent/lib/python3.10/site-packages (from SQLAlchemy[asyncio]>=1.4.49->llama-index-core<0.12.0,>=0.11.7->llama-index-llms-openai) (3.0.3)\n",
            "Requirement already satisfied: mypy-extensions>=0.3.0 in /Users/in-mac/miniconda3/envs/patent/lib/python3.10/site-packages (from typing-inspect>=0.8.0->llama-index-core<0.12.0,>=0.11.7->llama-index-llms-openai) (1.0.0)\n",
            "Requirement already satisfied: marshmallow<4.0.0,>=3.18.0 in /Users/in-mac/miniconda3/envs/patent/lib/python3.10/site-packages (from dataclasses-json->llama-index-core<0.12.0,>=0.11.7->llama-index-llms-openai) (3.22.0)\n",
            "Requirement already satisfied: packaging>=17.0 in /Users/in-mac/miniconda3/envs/patent/lib/python3.10/site-packages (from marshmallow<4.0.0,>=3.18.0->dataclasses-json->llama-index-core<0.12.0,>=0.11.7->llama-index-llms-openai) (24.1)\n",
            "Downloading llama_index_llms_openai-0.2.3-py3-none-any.whl (12 kB)\n",
            "Downloading llama_index_embeddings_openai-0.2.4-py3-none-any.whl (6.1 kB)\n",
            "Downloading llama_index_agent_openai-0.3.1-py3-none-any.whl (13 kB)\n",
            "Downloading openai-1.44.0-py3-none-any.whl (367 kB)\n",
            "Downloading jiter-0.5.0-cp310-cp310-macosx_11_0_arm64.whl (299 kB)\n",
            "Installing collected packages: jiter, openai, llama-index-embeddings-openai, llama-index-agent-openai, llama-index-llms-openai\n",
            "  Attempting uninstall: openai\n",
            "    Found existing installation: openai 1.37.0\n",
            "    Uninstalling openai-1.37.0:\n",
            "      Successfully uninstalled openai-1.37.0\n",
            "Successfully installed jiter-0.5.0 llama-index-agent-openai-0.3.1 llama-index-embeddings-openai-0.2.4 llama-index-llms-openai-0.2.3 openai-1.44.0\n",
            "Note: you may need to restart the kernel to use updated packages.\n"
          ]
        }
      ],
      "source": [
        "%pip install llama-index-llms-openai llama-index-embeddings-openai"
      ]
    },
    {
      "cell_type": "code",
      "execution_count": 16,
      "metadata": {
        "id": "apGIXILlv6IS"
      },
      "outputs": [],
      "source": [
        "# one extra dep\n",
        "from llama_index.core import VectorStoreIndex\n"
      ]
    },
    {
      "cell_type": "code",
      "execution_count": 21,
      "metadata": {
        "colab": {
          "base_uri": "https://localhost:8080/",
          "height": 650
        },
        "id": "sIJTbqVIwBgH",
        "outputId": "88ec7fa7-8603-4a6f-9688-78ef5abeffd8"
      },
      "outputs": [],
      "source": [
        "# create an index from the parsed markdown\n",
        "index = VectorStoreIndex.from_documents(documents)"
      ]
    },
    {
      "cell_type": "code",
      "execution_count": 22,
      "metadata": {},
      "outputs": [],
      "source": [
        "# create a query engine for the index\n",
        "query_engine = index.as_query_engine()"
      ]
    },
    {
      "cell_type": "code",
      "execution_count": null,
      "metadata": {},
      "outputs": [],
      "source": []
    },
    {
      "cell_type": "code",
      "execution_count": 24,
      "metadata": {},
      "outputs": [
        {
          "name": "stdout",
          "output_type": "stream",
          "text": [
            "You can improve the manufacturing cost and market competitiveness of a full-color LED display by implementing a technical scheme that involves a full-color LED display device without electrical contact and mass transfer. This scheme includes various components such as LED crystal grains, wavelength down-conversion light emitting layers, insulating layers, optical micro-structures, control modules, and driving electrodes, all working together to achieve full-color display via controllable scanning.\n"
          ]
        }
      ],
      "source": [
        "# query the engine\n",
        "query = \"What can you do about display patent?\"\n",
        "response = query_engine.query(query)\n",
        "print(response)"
      ]
    }
  ],
  "metadata": {
    "colab": {
      "provenance": []
    },
    "kernelspec": {
      "display_name": "Python 3",
      "name": "python3"
    },
    "language_info": {
      "codemirror_mode": {
        "name": "ipython",
        "version": 3
      },
      "file_extension": ".py",
      "mimetype": "text/x-python",
      "name": "python",
      "nbconvert_exporter": "python",
      "pygments_lexer": "ipython3",
      "version": "3.10.14"
    }
  },
  "nbformat": 4,
  "nbformat_minor": 0
}
